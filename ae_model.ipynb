{
 "cells": [
  {
   "cell_type": "markdown",
   "id": "698034ee",
   "metadata": {},
   "source": [
    "**Autoencoder (AE)**\n",
    "---\n",
    "**Imports**\n",
    "\n",
    "---"
   ]
  },
  {
   "cell_type": "markdown",
   "id": "94122811",
   "metadata": {},
   "source": [
    "External libraries required for operation"
   ]
  },
  {
   "cell_type": "code",
   "execution_count": 1,
   "id": "9701c1a6",
   "metadata": {},
   "outputs": [
    {
     "name": "stderr",
     "output_type": "stream",
     "text": [
      "2025-07-22 07:55:01.832459: I external/local_xla/xla/tsl/cuda/cudart_stub.cc:32] Could not find cuda drivers on your machine, GPU will not be used.\n",
      "2025-07-22 07:55:01.839091: I external/local_xla/xla/tsl/cuda/cudart_stub.cc:32] Could not find cuda drivers on your machine, GPU will not be used.\n",
      "2025-07-22 07:55:01.854718: E external/local_xla/xla/stream_executor/cuda/cuda_fft.cc:467] Unable to register cuFFT factory: Attempting to register factory for plugin cuFFT when one has already been registered\n",
      "WARNING: All log messages before absl::InitializeLog() is called are written to STDERR\n",
      "E0000 00:00:1753196101.879408 2848634 cuda_dnn.cc:8579] Unable to register cuDNN factory: Attempting to register factory for plugin cuDNN when one has already been registered\n",
      "E0000 00:00:1753196101.886937 2848634 cuda_blas.cc:1407] Unable to register cuBLAS factory: Attempting to register factory for plugin cuBLAS when one has already been registered\n",
      "W0000 00:00:1753196101.908185 2848634 computation_placer.cc:177] computation placer already registered. Please check linkage and avoid linking the same target more than once.\n",
      "W0000 00:00:1753196101.908216 2848634 computation_placer.cc:177] computation placer already registered. Please check linkage and avoid linking the same target more than once.\n",
      "W0000 00:00:1753196101.908221 2848634 computation_placer.cc:177] computation placer already registered. Please check linkage and avoid linking the same target more than once.\n",
      "W0000 00:00:1753196101.908226 2848634 computation_placer.cc:177] computation placer already registered. Please check linkage and avoid linking the same target more than once.\n",
      "2025-07-22 07:55:01.914526: I tensorflow/core/platform/cpu_feature_guard.cc:210] This TensorFlow binary is optimized to use available CPU instructions in performance-critical operations.\n",
      "To enable the following instructions: AVX2 AVX512F FMA, in other operations, rebuild TensorFlow with the appropriate compiler flags.\n"
     ]
    }
   ],
   "source": [
    "import json\n",
    "import h5py\n",
    "import os\n",
    "import datetime\n",
    "import numpy as np\n",
    "import tensorflow as tf\n",
    "from tensorflow.keras import Model, layers\n",
    "from tensorflow.keras.callbacks import EarlyStopping, ReduceLROnPlateau, CSVLogger, TensorBoard\n",
    "from tensorflow.keras.optimizers import Adam\n",
    "import matplotlib.pyplot as plt\n",
    "import sklearn.metrics as sk"
   ]
  },
  {
   "cell_type": "markdown",
   "id": "cc3b72a0",
   "metadata": {},
   "source": [
    "Opening the trainer_config.json file:"
   ]
  },
  {
   "cell_type": "code",
   "execution_count": 2,
   "id": "7fb38342",
   "metadata": {},
   "outputs": [],
   "source": [
    "TRAINER_CONFIG_FILE_LOCATION = 'config/trainer_config.json'\n",
    "model_type = 'AE'\n",
    "with open(TRAINER_CONFIG_FILE_LOCATION, 'r') as file:\n",
    "    train_config = json.load(file)"
   ]
  },
  {
   "cell_type": "markdown",
   "id": "3ba53a62",
   "metadata": {},
   "source": [
    "**Data Preprocessing**\n",
    "\n",
    "---"
   ]
  },
  {
   "cell_type": "markdown",
   "id": "b527cb4d",
   "metadata": {},
   "source": [
    "This block will open and validate the background data file. It must contain the directory \"Particles\" within it in order for us to continue. It will then save it into a numpy array to be used for model training."
   ]
  },
  {
   "cell_type": "code",
   "execution_count": 3,
   "id": "a62addf2",
   "metadata": {},
   "outputs": [],
   "source": [
    "#Opening file in read mode...\n",
    "data_file = h5py.File(train_config[\"data_files\"][\"background_file\"], 'r')\n",
    "\n",
    "\n",
    "\n",
    "#Checking for validity...\n",
    "is_file_valid = False\n",
    "required_dataset = train_config[\"datasets\"][\"required_dataset\"]\n",
    "for key in data_file['/']:\n",
    "    if isinstance(data_file['/' + key], h5py.Dataset) and key == required_dataset:\n",
    "        is_file_valid = True\n",
    "\n",
    "\n",
    "\n",
    "#Stop if file is not valid...\n",
    "if not is_file_valid:\n",
    "    raise Exception(\"File Does not contain the required dataset\")\n",
    "\n",
    "\n",
    "\n",
    "#Save it into a numpy array...\n",
    "preprocessed_data = np.array(data_file[required_dataset])"
   ]
  },
  {
   "cell_type": "markdown",
   "id": "66df7a08",
   "metadata": {},
   "source": [
    "**Data Splitting**\n",
    "\n",
    "---"
   ]
  },
  {
   "cell_type": "markdown",
   "id": "c366a2cf",
   "metadata": {},
   "source": [
    "Splitting data into testing, validating and training sets. So that the model is tested and validated with unique data that it was not trained on (prevents overfitting!)"
   ]
  },
  {
   "cell_type": "code",
   "execution_count": 4,
   "id": "2abb2cf2",
   "metadata": {},
   "outputs": [
    {
     "name": "stdout",
     "output_type": "stream",
     "text": [
      "Generated The Following Datasets\n",
      " Train Data Shape : (2000000, 57)\n",
      " Validation Data Shape : (399999, 57)\n",
      " Test Data Shape : (70000, 57)\n"
     ]
    }
   ],
   "source": [
    "\n",
    "# TODO label\n",
    "for i, batch in enumerate(preprocessed_data):\n",
    "    pt_sum = 0\n",
    "    for j, particle in enumerate(preprocessed_data[i, :, :]):\n",
    "        if particle[3] != 0:\n",
    "            pt_sum += particle[0]\n",
    "    for j, particle in enumerate(preprocessed_data[i, :, :]):\n",
    "        particle[0] = particle[0] / pt_sum\n",
    "\n",
    "\n",
    "\n",
    "#Save data_train, data_validate, and data_test (if needed)...\n",
    "data_train = preprocessed_data[train_config[\"data_split\"][\"train_split_start\"]:train_config[\"data_split\"][\"train_split_end\"], :, 0:3].reshape(-1, 57)\n",
    "data_validate = preprocessed_data[train_config[\"data_split\"][\"val_split_start\"]:train_config[\"data_split\"][\"val_split_end\"], :, 0:3].reshape(-1, 57)\n",
    "\n",
    "### MAY BE COMMENTED OUT IF TEST DATA IS NOT NEEDED!\n",
    "data_test = preprocessed_data[train_config[\"data_split\"][\"test_split_start\"]:train_config[\"data_split\"][\"test_split_end\"], :,0:3].reshape(-1, 57)\n",
    "###\n",
    "\n",
    "\n",
    "\n",
    "# Truncate data if there is a max...\n",
    "if train_config[\"data_split\"][\"max_data\"] != \"None\":\n",
    "    data_test = data_test[:train_config[\"data_split\"][\"max_data\"]]\n",
    "    print(\"Generated The Following Datasets\\n Train Data Shape : {}\\n Validation Data Shape : {}\\n Test Data Shape : {}\".format(data_train.shape, data_validate.shape,data_test.shape))\n",
    "else:\n",
    "    print(\"Generated The Following Datasets\\n Train Data Shape : {}\\n Validation Data Shape : {}\\n Test Data Shape : {}\".format(data_train.shape, data_validate.shape,data_test.shape))"
   ]
  },
  {
   "cell_type": "markdown",
   "id": "c1e688ca",
   "metadata": {},
   "source": [
    "**Model Initialization**\n",
    "\n",
    "---"
   ]
  },
  {
   "cell_type": "markdown",
   "id": "e1087047",
   "metadata": {},
   "source": [
    "The Autoencoder Model class:"
   ]
  },
  {
   "cell_type": "code",
   "execution_count": 5,
   "id": "12c872ac",
   "metadata": {},
   "outputs": [],
   "source": [
    "class AeModel(Model):\n",
    "    def __init__(self, train_config):\n",
    "        super(AeModel, self).__init__()\n",
    "        self.latent_dim = train_config[\"encoder_design\"][\"latent_layer_dimension\"]\n",
    "        self.input_shape = (train_config[\"encoder_design\"][\"input_layer_dimension\"],)\n",
    "\n",
    "        # Encoder\n",
    "\n",
    "        #Creating input layer\n",
    "        self.encoder_input = layers.Input(shape=self.input_shape)\n",
    "        x = self.encoder_input\n",
    "\n",
    "\n",
    "        #Creating inner encoder layers:\n",
    "        ip_layer_dimension_list = train_config[\"encoder_design\"][\"inner_layer_dimensions\"]\n",
    "        for dimension in ip_layer_dimension_list:\n",
    "            x = layers.Dense(dimension, activation='relu', name=f\"encoder_{dimension}\")(x)\n",
    "\n",
    "        #Creating the latent space layer\n",
    "        self.z = layers.Dense(self.latent_dim, activation='relu', name=\"latent\")(x)\n",
    "\n",
    "        # Decoder\n",
    "\n",
    "        #Creating decoder input layer (same as latent dim)\n",
    "        self.decoder_input = layers.Input(shape=(self.latent_dim,))\n",
    "        x = self.decoder_input\n",
    "\n",
    "        #Creating inner decoder layers\n",
    "        op_layer_dimension_list = train_config[\"decoder_design\"][\"inner_layer_dimensions\"]\n",
    "        for dimension in op_layer_dimension_list:\n",
    "            x = layers.Dense(dimension, activation='relu')(x)\n",
    "\n",
    "        #Creating output layer\n",
    "        self.decoder_output = layers.Dense(self.input_shape[0], activation='sigmoid')(x)\n",
    "        #Note: Swapped the order on config.json, if there are issues with this line of code switch the order of 16, 32 back to 32, 16.\n",
    "\n",
    "\n",
    "        # Combine encoder and decoder\n",
    "        self.encoder = Model(self.encoder_input, self.z, name=\"encoder\")\n",
    "        self.encoder.summary()\n",
    "        self.decoder = Model(self.decoder_input, self.decoder_output, name=\"decoder\")\n",
    "        self.decoder.summary()\n",
    "\n",
    "        # Full autoencoder model\n",
    "        full_input = self.encoder_input\n",
    "        encoded = self.encoder(full_input)\n",
    "        decoded = self.decoder(encoded)\n",
    "        self.autoencoder = Model(full_input, decoded, name=\"autoencoder\")\n",
    "\n",
    "    # default: model.compile(optimizer='adam', loss='mse')\n",
    "    def call(self, inputs):\n",
    "        return self.autoencoder(inputs)\n"
   ]
  },
  {
   "cell_type": "markdown",
   "id": "e4d1c843",
   "metadata": {},
   "source": [
    "Initialize an instance of the above class"
   ]
  },
  {
   "cell_type": "code",
   "execution_count": 6,
   "id": "06b3513f",
   "metadata": {},
   "outputs": [
    {
     "name": "stderr",
     "output_type": "stream",
     "text": [
      "2025-07-22 07:56:47.504162: E external/local_xla/xla/stream_executor/cuda/cuda_platform.cc:51] failed call to cuInit: INTERNAL: CUDA error: Failed call to cuInit: UNKNOWN ERROR (303)\n"
     ]
    },
    {
     "data": {
      "text/html": [
       "<pre style=\"white-space:pre;overflow-x:auto;line-height:normal;font-family:Menlo,'DejaVu Sans Mono',consolas,'Courier New',monospace\"><span style=\"font-weight: bold\">Model: \"encoder\"</span>\n",
       "</pre>\n"
      ],
      "text/plain": [
       "\u001b[1mModel: \"encoder\"\u001b[0m\n"
      ]
     },
     "metadata": {},
     "output_type": "display_data"
    },
    {
     "data": {
      "text/html": [
       "<pre style=\"white-space:pre;overflow-x:auto;line-height:normal;font-family:Menlo,'DejaVu Sans Mono',consolas,'Courier New',monospace\">┏━━━━━━━━━━━━━━━━━━━━━━━━━━━━━━━━━┳━━━━━━━━━━━━━━━━━━━━━━━━┳━━━━━━━━━━━━━━━┓\n",
       "┃<span style=\"font-weight: bold\"> Layer (type)                    </span>┃<span style=\"font-weight: bold\"> Output Shape           </span>┃<span style=\"font-weight: bold\">       Param # </span>┃\n",
       "┡━━━━━━━━━━━━━━━━━━━━━━━━━━━━━━━━━╇━━━━━━━━━━━━━━━━━━━━━━━━╇━━━━━━━━━━━━━━━┩\n",
       "│ input_layer (<span style=\"color: #0087ff; text-decoration-color: #0087ff\">InputLayer</span>)        │ (<span style=\"color: #00d7ff; text-decoration-color: #00d7ff\">None</span>, <span style=\"color: #00af00; text-decoration-color: #00af00\">57</span>)             │             <span style=\"color: #00af00; text-decoration-color: #00af00\">0</span> │\n",
       "├─────────────────────────────────┼────────────────────────┼───────────────┤\n",
       "│ encoder_32 (<span style=\"color: #0087ff; text-decoration-color: #0087ff\">Dense</span>)              │ (<span style=\"color: #00d7ff; text-decoration-color: #00d7ff\">None</span>, <span style=\"color: #00af00; text-decoration-color: #00af00\">32</span>)             │         <span style=\"color: #00af00; text-decoration-color: #00af00\">1,856</span> │\n",
       "├─────────────────────────────────┼────────────────────────┼───────────────┤\n",
       "│ encoder_16 (<span style=\"color: #0087ff; text-decoration-color: #0087ff\">Dense</span>)              │ (<span style=\"color: #00d7ff; text-decoration-color: #00d7ff\">None</span>, <span style=\"color: #00af00; text-decoration-color: #00af00\">16</span>)             │           <span style=\"color: #00af00; text-decoration-color: #00af00\">528</span> │\n",
       "├─────────────────────────────────┼────────────────────────┼───────────────┤\n",
       "│ latent (<span style=\"color: #0087ff; text-decoration-color: #0087ff\">Dense</span>)                  │ (<span style=\"color: #00d7ff; text-decoration-color: #00d7ff\">None</span>, <span style=\"color: #00af00; text-decoration-color: #00af00\">3</span>)              │            <span style=\"color: #00af00; text-decoration-color: #00af00\">51</span> │\n",
       "└─────────────────────────────────┴────────────────────────┴───────────────┘\n",
       "</pre>\n"
      ],
      "text/plain": [
       "┏━━━━━━━━━━━━━━━━━━━━━━━━━━━━━━━━━┳━━━━━━━━━━━━━━━━━━━━━━━━┳━━━━━━━━━━━━━━━┓\n",
       "┃\u001b[1m \u001b[0m\u001b[1mLayer (type)                   \u001b[0m\u001b[1m \u001b[0m┃\u001b[1m \u001b[0m\u001b[1mOutput Shape          \u001b[0m\u001b[1m \u001b[0m┃\u001b[1m \u001b[0m\u001b[1m      Param #\u001b[0m\u001b[1m \u001b[0m┃\n",
       "┡━━━━━━━━━━━━━━━━━━━━━━━━━━━━━━━━━╇━━━━━━━━━━━━━━━━━━━━━━━━╇━━━━━━━━━━━━━━━┩\n",
       "│ input_layer (\u001b[38;5;33mInputLayer\u001b[0m)        │ (\u001b[38;5;45mNone\u001b[0m, \u001b[38;5;34m57\u001b[0m)             │             \u001b[38;5;34m0\u001b[0m │\n",
       "├─────────────────────────────────┼────────────────────────┼───────────────┤\n",
       "│ encoder_32 (\u001b[38;5;33mDense\u001b[0m)              │ (\u001b[38;5;45mNone\u001b[0m, \u001b[38;5;34m32\u001b[0m)             │         \u001b[38;5;34m1,856\u001b[0m │\n",
       "├─────────────────────────────────┼────────────────────────┼───────────────┤\n",
       "│ encoder_16 (\u001b[38;5;33mDense\u001b[0m)              │ (\u001b[38;5;45mNone\u001b[0m, \u001b[38;5;34m16\u001b[0m)             │           \u001b[38;5;34m528\u001b[0m │\n",
       "├─────────────────────────────────┼────────────────────────┼───────────────┤\n",
       "│ latent (\u001b[38;5;33mDense\u001b[0m)                  │ (\u001b[38;5;45mNone\u001b[0m, \u001b[38;5;34m3\u001b[0m)              │            \u001b[38;5;34m51\u001b[0m │\n",
       "└─────────────────────────────────┴────────────────────────┴───────────────┘\n"
      ]
     },
     "metadata": {},
     "output_type": "display_data"
    },
    {
     "data": {
      "text/html": [
       "<pre style=\"white-space:pre;overflow-x:auto;line-height:normal;font-family:Menlo,'DejaVu Sans Mono',consolas,'Courier New',monospace\"><span style=\"font-weight: bold\"> Total params: </span><span style=\"color: #00af00; text-decoration-color: #00af00\">2,435</span> (9.51 KB)\n",
       "</pre>\n"
      ],
      "text/plain": [
       "\u001b[1m Total params: \u001b[0m\u001b[38;5;34m2,435\u001b[0m (9.51 KB)\n"
      ]
     },
     "metadata": {},
     "output_type": "display_data"
    },
    {
     "data": {
      "text/html": [
       "<pre style=\"white-space:pre;overflow-x:auto;line-height:normal;font-family:Menlo,'DejaVu Sans Mono',consolas,'Courier New',monospace\"><span style=\"font-weight: bold\"> Trainable params: </span><span style=\"color: #00af00; text-decoration-color: #00af00\">2,435</span> (9.51 KB)\n",
       "</pre>\n"
      ],
      "text/plain": [
       "\u001b[1m Trainable params: \u001b[0m\u001b[38;5;34m2,435\u001b[0m (9.51 KB)\n"
      ]
     },
     "metadata": {},
     "output_type": "display_data"
    },
    {
     "data": {
      "text/html": [
       "<pre style=\"white-space:pre;overflow-x:auto;line-height:normal;font-family:Menlo,'DejaVu Sans Mono',consolas,'Courier New',monospace\"><span style=\"font-weight: bold\"> Non-trainable params: </span><span style=\"color: #00af00; text-decoration-color: #00af00\">0</span> (0.00 B)\n",
       "</pre>\n"
      ],
      "text/plain": [
       "\u001b[1m Non-trainable params: \u001b[0m\u001b[38;5;34m0\u001b[0m (0.00 B)\n"
      ]
     },
     "metadata": {},
     "output_type": "display_data"
    },
    {
     "data": {
      "text/html": [
       "<pre style=\"white-space:pre;overflow-x:auto;line-height:normal;font-family:Menlo,'DejaVu Sans Mono',consolas,'Courier New',monospace\"><span style=\"font-weight: bold\">Model: \"decoder\"</span>\n",
       "</pre>\n"
      ],
      "text/plain": [
       "\u001b[1mModel: \"decoder\"\u001b[0m\n"
      ]
     },
     "metadata": {},
     "output_type": "display_data"
    },
    {
     "data": {
      "text/html": [
       "<pre style=\"white-space:pre;overflow-x:auto;line-height:normal;font-family:Menlo,'DejaVu Sans Mono',consolas,'Courier New',monospace\">┏━━━━━━━━━━━━━━━━━━━━━━━━━━━━━━━━━┳━━━━━━━━━━━━━━━━━━━━━━━━┳━━━━━━━━━━━━━━━┓\n",
       "┃<span style=\"font-weight: bold\"> Layer (type)                    </span>┃<span style=\"font-weight: bold\"> Output Shape           </span>┃<span style=\"font-weight: bold\">       Param # </span>┃\n",
       "┡━━━━━━━━━━━━━━━━━━━━━━━━━━━━━━━━━╇━━━━━━━━━━━━━━━━━━━━━━━━╇━━━━━━━━━━━━━━━┩\n",
       "│ input_layer_1 (<span style=\"color: #0087ff; text-decoration-color: #0087ff\">InputLayer</span>)      │ (<span style=\"color: #00d7ff; text-decoration-color: #00d7ff\">None</span>, <span style=\"color: #00af00; text-decoration-color: #00af00\">3</span>)              │             <span style=\"color: #00af00; text-decoration-color: #00af00\">0</span> │\n",
       "├─────────────────────────────────┼────────────────────────┼───────────────┤\n",
       "│ dense (<span style=\"color: #0087ff; text-decoration-color: #0087ff\">Dense</span>)                   │ (<span style=\"color: #00d7ff; text-decoration-color: #00d7ff\">None</span>, <span style=\"color: #00af00; text-decoration-color: #00af00\">16</span>)             │            <span style=\"color: #00af00; text-decoration-color: #00af00\">64</span> │\n",
       "├─────────────────────────────────┼────────────────────────┼───────────────┤\n",
       "│ dense_1 (<span style=\"color: #0087ff; text-decoration-color: #0087ff\">Dense</span>)                 │ (<span style=\"color: #00d7ff; text-decoration-color: #00d7ff\">None</span>, <span style=\"color: #00af00; text-decoration-color: #00af00\">32</span>)             │           <span style=\"color: #00af00; text-decoration-color: #00af00\">544</span> │\n",
       "├─────────────────────────────────┼────────────────────────┼───────────────┤\n",
       "│ dense_2 (<span style=\"color: #0087ff; text-decoration-color: #0087ff\">Dense</span>)                 │ (<span style=\"color: #00d7ff; text-decoration-color: #00d7ff\">None</span>, <span style=\"color: #00af00; text-decoration-color: #00af00\">57</span>)             │         <span style=\"color: #00af00; text-decoration-color: #00af00\">1,881</span> │\n",
       "└─────────────────────────────────┴────────────────────────┴───────────────┘\n",
       "</pre>\n"
      ],
      "text/plain": [
       "┏━━━━━━━━━━━━━━━━━━━━━━━━━━━━━━━━━┳━━━━━━━━━━━━━━━━━━━━━━━━┳━━━━━━━━━━━━━━━┓\n",
       "┃\u001b[1m \u001b[0m\u001b[1mLayer (type)                   \u001b[0m\u001b[1m \u001b[0m┃\u001b[1m \u001b[0m\u001b[1mOutput Shape          \u001b[0m\u001b[1m \u001b[0m┃\u001b[1m \u001b[0m\u001b[1m      Param #\u001b[0m\u001b[1m \u001b[0m┃\n",
       "┡━━━━━━━━━━━━━━━━━━━━━━━━━━━━━━━━━╇━━━━━━━━━━━━━━━━━━━━━━━━╇━━━━━━━━━━━━━━━┩\n",
       "│ input_layer_1 (\u001b[38;5;33mInputLayer\u001b[0m)      │ (\u001b[38;5;45mNone\u001b[0m, \u001b[38;5;34m3\u001b[0m)              │             \u001b[38;5;34m0\u001b[0m │\n",
       "├─────────────────────────────────┼────────────────────────┼───────────────┤\n",
       "│ dense (\u001b[38;5;33mDense\u001b[0m)                   │ (\u001b[38;5;45mNone\u001b[0m, \u001b[38;5;34m16\u001b[0m)             │            \u001b[38;5;34m64\u001b[0m │\n",
       "├─────────────────────────────────┼────────────────────────┼───────────────┤\n",
       "│ dense_1 (\u001b[38;5;33mDense\u001b[0m)                 │ (\u001b[38;5;45mNone\u001b[0m, \u001b[38;5;34m32\u001b[0m)             │           \u001b[38;5;34m544\u001b[0m │\n",
       "├─────────────────────────────────┼────────────────────────┼───────────────┤\n",
       "│ dense_2 (\u001b[38;5;33mDense\u001b[0m)                 │ (\u001b[38;5;45mNone\u001b[0m, \u001b[38;5;34m57\u001b[0m)             │         \u001b[38;5;34m1,881\u001b[0m │\n",
       "└─────────────────────────────────┴────────────────────────┴───────────────┘\n"
      ]
     },
     "metadata": {},
     "output_type": "display_data"
    },
    {
     "data": {
      "text/html": [
       "<pre style=\"white-space:pre;overflow-x:auto;line-height:normal;font-family:Menlo,'DejaVu Sans Mono',consolas,'Courier New',monospace\"><span style=\"font-weight: bold\"> Total params: </span><span style=\"color: #00af00; text-decoration-color: #00af00\">2,489</span> (9.72 KB)\n",
       "</pre>\n"
      ],
      "text/plain": [
       "\u001b[1m Total params: \u001b[0m\u001b[38;5;34m2,489\u001b[0m (9.72 KB)\n"
      ]
     },
     "metadata": {},
     "output_type": "display_data"
    },
    {
     "data": {
      "text/html": [
       "<pre style=\"white-space:pre;overflow-x:auto;line-height:normal;font-family:Menlo,'DejaVu Sans Mono',consolas,'Courier New',monospace\"><span style=\"font-weight: bold\"> Trainable params: </span><span style=\"color: #00af00; text-decoration-color: #00af00\">2,489</span> (9.72 KB)\n",
       "</pre>\n"
      ],
      "text/plain": [
       "\u001b[1m Trainable params: \u001b[0m\u001b[38;5;34m2,489\u001b[0m (9.72 KB)\n"
      ]
     },
     "metadata": {},
     "output_type": "display_data"
    },
    {
     "data": {
      "text/html": [
       "<pre style=\"white-space:pre;overflow-x:auto;line-height:normal;font-family:Menlo,'DejaVu Sans Mono',consolas,'Courier New',monospace\"><span style=\"font-weight: bold\"> Non-trainable params: </span><span style=\"color: #00af00; text-decoration-color: #00af00\">0</span> (0.00 B)\n",
       "</pre>\n"
      ],
      "text/plain": [
       "\u001b[1m Non-trainable params: \u001b[0m\u001b[38;5;34m0\u001b[0m (0.00 B)\n"
      ]
     },
     "metadata": {},
     "output_type": "display_data"
    }
   ],
   "source": [
    "model = AeModel(train_config)"
   ]
  },
  {
   "cell_type": "markdown",
   "id": "38aa4393",
   "metadata": {},
   "source": [
    "**Model Training**\n",
    "\n",
    "---"
   ]
  },
  {
   "cell_type": "code",
   "execution_count": 7,
   "id": "77e4dfc5",
   "metadata": {},
   "outputs": [
    {
     "name": "stdout",
     "output_type": "stream",
     "text": [
      "Epoch 1/3\n",
      "\u001b[1m1954/1954\u001b[0m \u001b[32m━━━━━━━━━━━━━━━━━━━━\u001b[0m\u001b[37m\u001b[0m \u001b[1m9s\u001b[0m 4ms/step - loss: 0.2049 - val_loss: 0.1576\n",
      "Epoch 2/3\n",
      "\u001b[1m1954/1954\u001b[0m \u001b[32m━━━━━━━━━━━━━━━━━━━━\u001b[0m\u001b[37m\u001b[0m \u001b[1m7s\u001b[0m 4ms/step - loss: 0.1547 - val_loss: 0.1511\n",
      "Epoch 3/3\n",
      "\u001b[1m1954/1954\u001b[0m \u001b[32m━━━━━━━━━━━━━━━━━━━━\u001b[0m\u001b[37m\u001b[0m \u001b[1m7s\u001b[0m 4ms/step - loss: 0.1511 - val_loss: 0.1496\n"
     ]
    }
   ],
   "source": [
    "early_stopping = EarlyStopping(patience=train_config[\"hyperparameters\"][\"stop_patience\"], restore_best_weights=True)\n",
    "reduce_lr = ReduceLROnPlateau(monitor='val_loss', factor=0.1,\n",
    "                                  patience=train_config[\"hyperparameters\"][\"lr_patience\"], verbose=1)\n",
    "\n",
    "model.compile(optimizer=Adam(), loss=tf.keras.losses.MeanSquaredError())\n",
    "history = model.fit(x=data_train,\n",
    "                        y=data_train,\n",
    "                        validation_data=(data_validate, data_validate),\n",
    "                        epochs=train_config[\"hyperparameters\"][\"epochs\"],\n",
    "                        batch_size=train_config[\"hyperparameters\"][\"batch_size\"],\n",
    "                        # callbacks=[early_stopping, reduce_lr, training_logger, tensorboard_callback]\n",
    "                        )"
   ]
  },
  {
   "cell_type": "code",
   "execution_count": 8,
   "id": "201b7f9a",
   "metadata": {},
   "outputs": [
    {
     "data": {
      "image/png": "[encoded data removed]",
      "text/plain": [
       "<Figure size 640x480 with 1 Axes>"
      ]
     },
     "metadata": {},
     "output_type": "display_data"
    }
   ],
   "source": [
    "loss = history.history[\"loss\"]\n",
    "val_loss = history.history[\"val_loss\"]\n",
    "plt.xlabel('Epoch')\n",
    "plt.ylabel('Loss (MSE)')\n",
    "plt.title(\"Loss vs epoch curve for \" + train_config[\"model_files\"][\"model_name\"])\n",
    "plt.xticks(np.arange(0,21,2))\n",
    "plt.plot(np.linspace(0, train_config[\"hyperparameters\"][\"epochs\"], train_config[\"hyperparameters\"][\"epochs\"]), loss)\n",
    "plt.plot(np.linspace(0, train_config[\"hyperparameters\"][\"epochs\"], train_config[\"hyperparameters\"][\"epochs\"]), val_loss)\n",
    "\n",
    "plt.savefig(os.path.join(train_config[\"outputs\"][\"graph_directory\"], datetime.datetime.now().strftime(\n",
    "    train_config[\"outputs\"][\"date_time_format\"]) + \"_LossVsEpoch.png\"), format=\"png\", bbox_inches=\"tight\")\n",
    "plt.show()"
   ]
  },
  {
   "cell_type": "markdown",
   "id": "64e41c34",
   "metadata": {},
   "source": [
    "**Model Evaluation**\n",
    "\n",
    "---"
   ]
  },
  {
   "cell_type": "markdown",
   "id": "35c82868",
   "metadata": {},
   "source": [
    "Processing the signal data"
   ]
  },
  {
   "cell_type": "code",
   "execution_count": 14,
   "id": "cd846fb2",
   "metadata": {},
   "outputs": [],
   "source": [
    "#Opening file in read mode...\n",
    "file_name = \"Ato4l_lepFilter_13TeV\"\n",
    "signal_file = h5py.File(train_config[\"data_files\"][file_name], 'r')\n",
    "\n",
    "\n",
    "\n",
    "#Checking for validity...\n",
    "is_file_valid = False\n",
    "required_dataset = train_config[\"datasets\"][\"required_dataset\"]\n",
    "for key in signal_file['/']:\n",
    "    if isinstance(signal_file['/' + key], h5py.Dataset) and key == required_dataset:\n",
    "        is_file_valid = True\n",
    "\n",
    "\n",
    "\n",
    "#Stop if file is not valid...\n",
    "if not is_file_valid:\n",
    "    raise Exception(\"File Does not contain the required dataset\")\n",
    "\n",
    "\n",
    "\n",
    "#Save it into a numpy array...\n",
    "signal_data = np.array(signal_file[required_dataset])\n",
    "\n",
    "for i, batch in enumerate(signal_data):\n",
    "    pt_sum = 0\n",
    "    for j, particle in enumerate(signal_data[i, :, :]):\n",
    "        if particle[3] != 0:\n",
    "            pt_sum += particle[0]\n",
    "    for j, particle in enumerate(signal_data[i, :, :]):\n",
    "        particle[0] = particle[0] / pt_sum\n",
    "signal_data = signal_data[:, :,0:3].reshape(-1, 57)\n",
    "\n",
    "\n",
    "\n",
    "reconstructed_background = model(data_test).numpy()\n",
    "reconstructed_signal = model(signal_data).numpy()\n",
    "\n",
    "background_scores = np.mean((reconstructed_background - data_test)**2,axis=1)\n",
    "signal_scores = np.mean((reconstructed_signal - signal_data)**2, axis=1)\n",
    "\n",
    "truth_values = np.concatenate([\n",
    "    np.zeros(len(background_scores)),\n",
    "    np.ones(len(signal_scores))\n",
    "])\n",
    "scores = np.concatenate([\n",
    "    background_scores, \n",
    "    signal_scores\n",
    "])"
   ]
  },
  {
   "cell_type": "markdown",
   "id": "f1fc9272",
   "metadata": {},
   "source": [
    "Generate AUC and loss histograms, seeing if we can get that anomaly score to work..."
   ]
  },
  {
   "cell_type": "code",
   "execution_count": 18,
   "id": "715fbf37",
   "metadata": {},
   "outputs": [
    {
     "data": {
      "image/png": "[encoded data removed]",
      "text/plain": [
       "<Figure size 800x600 with 1 Axes>"
      ]
     },
     "metadata": {},
     "output_type": "display_data"
    }
   ],
   "source": [
    "fpr, tpr, _ = sk.roc_curve(truth_values, scores)\n",
    "roc_auc = sk.auc(fpr, tpr)\n",
    "\n",
    "# Plotting\n",
    "plt.figure(figsize=(8, 6))\n",
    "plt.plot(fpr, tpr, label=f'ROC curve (AUC = {roc_auc:.2f})', color='darkorange')\n",
    "plt.plot([0, 1], [0, 1], linestyle='--', color='gray')\n",
    "plt.xlabel('False Positive Rate')\n",
    "plt.ylabel('True Positive Rate')\n",
    "plt.title('benchmark_ae_roc_curve_5732163')\n",
    "plt.legend(loc=\"lower right\")\n",
    "plt.grid(True)\n",
    "plt.tight_layout()\n",
    "plt.savefig(os.path.join(train_config[\"outputs\"][\"graph_directory\"], datetime.datetime.now().strftime(\n",
    "    train_config[\"outputs\"][\"date_time_format\"]) + \"_ROC.png\"), format=\"png\", bbox_inches=\"tight\")\n",
    "plt.show()\n",
    "\n"
   ]
  },
  {
   "cell_type": "code",
   "execution_count": null,
   "id": "91ff2f99",
   "metadata": {},
   "outputs": [],
   "source": []
  }
 ],
 "metadata": {
  "kernelspec": {
   "display_name": ".venv (3.9.13)",
   "language": "python",
   "name": "python3"
  },
  "language_info": {
   "codemirror_mode": {
    "name": "ipython",
    "version": 3
   },
   "file_extension": ".py",
   "mimetype": "text/x-python",
   "name": "python",
   "nbconvert_exporter": "python",
   "pygments_lexer": "ipython3",
   "version": "3.9.13"
  }
 },
 "nbformat": 4,
 "nbformat_minor": 5
}
