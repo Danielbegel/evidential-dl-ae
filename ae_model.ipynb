{
 "cells": [
  {
   "cell_type": "markdown",
   "id": "698034ee",
   "metadata": {},
   "source": [
    "**Autoencoder (AE)**\n",
    "---\n",
    "**Imports**\n",
    "\n",
    "---"
   ]
  },
  {
   "cell_type": "markdown",
   "id": "94122811",
   "metadata": {},
   "source": [
    "External libraries required for operation"
   ]
  },
  {
   "cell_type": "code",
   "execution_count": 1,
   "id": "9701c1a6",
   "metadata": {},
   "outputs": [
    {
     "name": "stderr",
     "output_type": "stream",
     "text": [
      "2025-07-24 11:26:48.754852: I external/local_xla/xla/tsl/cuda/cudart_stub.cc:32] Could not find cuda drivers on your machine, GPU will not be used.\n",
      "2025-07-24 11:26:48.766249: I external/local_xla/xla/tsl/cuda/cudart_stub.cc:32] Could not find cuda drivers on your machine, GPU will not be used.\n",
      "2025-07-24 11:26:48.804513: E external/local_xla/xla/stream_executor/cuda/cuda_fft.cc:467] Unable to register cuFFT factory: Attempting to register factory for plugin cuFFT when one has already been registered\n",
      "WARNING: All log messages before absl::InitializeLog() is called are written to STDERR\n",
      "E0000 00:00:1753381608.868267 4132117 cuda_dnn.cc:8579] Unable to register cuDNN factory: Attempting to register factory for plugin cuDNN when one has already been registered\n",
      "E0000 00:00:1753381608.879089 4132117 cuda_blas.cc:1407] Unable to register cuBLAS factory: Attempting to register factory for plugin cuBLAS when one has already been registered\n",
      "W0000 00:00:1753381608.915081 4132117 computation_placer.cc:177] computation placer already registered. Please check linkage and avoid linking the same target more than once.\n",
      "W0000 00:00:1753381608.915130 4132117 computation_placer.cc:177] computation placer already registered. Please check linkage and avoid linking the same target more than once.\n",
      "W0000 00:00:1753381608.915138 4132117 computation_placer.cc:177] computation placer already registered. Please check linkage and avoid linking the same target more than once.\n",
      "W0000 00:00:1753381608.915144 4132117 computation_placer.cc:177] computation placer already registered. Please check linkage and avoid linking the same target more than once.\n",
      "2025-07-24 11:26:48.929309: I tensorflow/core/platform/cpu_feature_guard.cc:210] This TensorFlow binary is optimized to use available CPU instructions in performance-critical operations.\n",
      "To enable the following instructions: AVX2 AVX512F FMA, in other operations, rebuild TensorFlow with the appropriate compiler flags.\n"
     ]
    }
   ],
   "source": [
    "import json\n",
    "import os\n",
    "import datetime\n",
    "import numpy as np\n",
    "import matplotlib.pyplot as plt\n",
    "from data_preprocessor import data_preprocessor as preproc\n",
    "from data_splitter import fixed_splitter as fs\n",
    "from model_manager import model_generator, model_trainer, model_storage\n",
    "from grapher import graph_generator as gg"
   ]
  },
  {
   "cell_type": "markdown",
   "id": "cc3b72a0",
   "metadata": {},
   "source": [
    "Opening the trainer_config.json file:"
   ]
  },
  {
   "cell_type": "code",
   "execution_count": 2,
   "id": "7fb38342",
   "metadata": {},
   "outputs": [],
   "source": [
    "TRAINER_CONFIG_FILE_LOCATION = 'config/trainer_config.json'\n",
    "model_type = 'AE'\n",
    "with open(TRAINER_CONFIG_FILE_LOCATION, 'r') as file:\n",
    "    train_config = json.load(file)"
   ]
  },
  {
   "cell_type": "markdown",
   "id": "3ba53a62",
   "metadata": {},
   "source": [
    "**Data Preprocessing & Splitting**\n",
    "\n",
    "---"
   ]
  },
  {
   "cell_type": "markdown",
   "id": "b527cb4d",
   "metadata": {},
   "source": [
    "This block will open and validate the background data file. It must contain the directory \"Particles\" within it in order for us to continue. It will then save it into a numpy array to be used for model training."
   ]
  },
  {
   "cell_type": "code",
   "execution_count": 3,
   "id": "a62addf2",
   "metadata": {},
   "outputs": [
    {
     "name": "stdout",
     "output_type": "stream",
     "text": [
      "Generated The Following Datasets\n",
      " Train Data Shape : (2000000, 57)\n",
      " Validation Data Shape : (399999, 57)\n",
      " Test Data Shape : (70000, 57)\n"
     ]
    }
   ],
   "source": [
    "preprocessed_data = preproc.get_data(train_config)\n",
    "\n",
    "Ato4l = preproc.get_data(train_config, \"Ato4l_lepFilter_13TeV\")\n",
    "hToTauTau = preproc.get_data(train_config, \"hToTauTau_13TeV_PU20\")\n",
    "hChToTauNu = preproc.get_data(train_config, \"hChToTauNu_13TeV_PU20\")\n",
    "leptoquark = preproc.get_data(train_config, \"leptoquark_LOWMASS_lepFilter_13TeV\")\n",
    "\n",
    "Ato4l = preproc.normalize_data(Ato4l)\n",
    "hToTauTau = preproc.normalize_data(hToTauTau)\n",
    "hChToTauNu = preproc.normalize_data(hChToTauNu)\n",
    "leptoquark = preproc.normalize_data(leptoquark)\n",
    "\n",
    "signal_data = np.concatenate([\n",
    "    Ato4l, \n",
    "    hToTauTau,\n",
    "    hChToTauNu,\n",
    "    leptoquark\n",
    "])\n",
    "\n",
    "data_train, data_validate, data_test = fs.generate_fixed_trainingdata_split(train_config, preprocessed_data, True)"
   ]
  },
  {
   "cell_type": "markdown",
   "id": "c1e688ca",
   "metadata": {},
   "source": [
    "**Model Initialization**\n",
    "\n",
    "---"
   ]
  },
  {
   "cell_type": "markdown",
   "id": "e4d1c843",
   "metadata": {},
   "source": [
    "Initialize an instance of the model"
   ]
  },
  {
   "cell_type": "code",
   "execution_count": 4,
   "id": "06b3513f",
   "metadata": {},
   "outputs": [
    {
     "name": "stderr",
     "output_type": "stream",
     "text": [
      "2025-07-24 11:30:19.838785: E external/local_xla/xla/stream_executor/cuda/cuda_platform.cc:51] failed call to cuInit: INTERNAL: CUDA error: Failed call to cuInit: UNKNOWN ERROR (303)\n"
     ]
    },
    {
     "data": {
      "text/html": [
       "<pre style=\"white-space:pre;overflow-x:auto;line-height:normal;font-family:Menlo,'DejaVu Sans Mono',consolas,'Courier New',monospace\"><span style=\"font-weight: bold\">Model: \"encoder\"</span>\n",
       "</pre>\n"
      ],
      "text/plain": [
       "\u001b[1mModel: \"encoder\"\u001b[0m\n"
      ]
     },
     "metadata": {},
     "output_type": "display_data"
    },
    {
     "data": {
      "text/html": [
       "<pre style=\"white-space:pre;overflow-x:auto;line-height:normal;font-family:Menlo,'DejaVu Sans Mono',consolas,'Courier New',monospace\">┏━━━━━━━━━━━━━━━━━━━━━━━━━━━━━━━━━┳━━━━━━━━━━━━━━━━━━━━━━━━┳━━━━━━━━━━━━━━━┓\n",
       "┃<span style=\"font-weight: bold\"> Layer (type)                    </span>┃<span style=\"font-weight: bold\"> Output Shape           </span>┃<span style=\"font-weight: bold\">       Param # </span>┃\n",
       "┡━━━━━━━━━━━━━━━━━━━━━━━━━━━━━━━━━╇━━━━━━━━━━━━━━━━━━━━━━━━╇━━━━━━━━━━━━━━━┩\n",
       "│ input_layer (<span style=\"color: #0087ff; text-decoration-color: #0087ff\">InputLayer</span>)        │ (<span style=\"color: #00d7ff; text-decoration-color: #00d7ff\">None</span>, <span style=\"color: #00af00; text-decoration-color: #00af00\">57</span>)             │             <span style=\"color: #00af00; text-decoration-color: #00af00\">0</span> │\n",
       "├─────────────────────────────────┼────────────────────────┼───────────────┤\n",
       "│ encoder_32 (<span style=\"color: #0087ff; text-decoration-color: #0087ff\">Dense</span>)              │ (<span style=\"color: #00d7ff; text-decoration-color: #00d7ff\">None</span>, <span style=\"color: #00af00; text-decoration-color: #00af00\">32</span>)             │         <span style=\"color: #00af00; text-decoration-color: #00af00\">1,856</span> │\n",
       "├─────────────────────────────────┼────────────────────────┼───────────────┤\n",
       "│ encoder_16 (<span style=\"color: #0087ff; text-decoration-color: #0087ff\">Dense</span>)              │ (<span style=\"color: #00d7ff; text-decoration-color: #00d7ff\">None</span>, <span style=\"color: #00af00; text-decoration-color: #00af00\">16</span>)             │           <span style=\"color: #00af00; text-decoration-color: #00af00\">528</span> │\n",
       "├─────────────────────────────────┼────────────────────────┼───────────────┤\n",
       "│ latent (<span style=\"color: #0087ff; text-decoration-color: #0087ff\">Dense</span>)                  │ (<span style=\"color: #00d7ff; text-decoration-color: #00d7ff\">None</span>, <span style=\"color: #00af00; text-decoration-color: #00af00\">2</span>)              │            <span style=\"color: #00af00; text-decoration-color: #00af00\">34</span> │\n",
       "└─────────────────────────────────┴────────────────────────┴───────────────┘\n",
       "</pre>\n"
      ],
      "text/plain": [
       "┏━━━━━━━━━━━━━━━━━━━━━━━━━━━━━━━━━┳━━━━━━━━━━━━━━━━━━━━━━━━┳━━━━━━━━━━━━━━━┓\n",
       "┃\u001b[1m \u001b[0m\u001b[1mLayer (type)                   \u001b[0m\u001b[1m \u001b[0m┃\u001b[1m \u001b[0m\u001b[1mOutput Shape          \u001b[0m\u001b[1m \u001b[0m┃\u001b[1m \u001b[0m\u001b[1m      Param #\u001b[0m\u001b[1m \u001b[0m┃\n",
       "┡━━━━━━━━━━━━━━━━━━━━━━━━━━━━━━━━━╇━━━━━━━━━━━━━━━━━━━━━━━━╇━━━━━━━━━━━━━━━┩\n",
       "│ input_layer (\u001b[38;5;33mInputLayer\u001b[0m)        │ (\u001b[38;5;45mNone\u001b[0m, \u001b[38;5;34m57\u001b[0m)             │             \u001b[38;5;34m0\u001b[0m │\n",
       "├─────────────────────────────────┼────────────────────────┼───────────────┤\n",
       "│ encoder_32 (\u001b[38;5;33mDense\u001b[0m)              │ (\u001b[38;5;45mNone\u001b[0m, \u001b[38;5;34m32\u001b[0m)             │         \u001b[38;5;34m1,856\u001b[0m │\n",
       "├─────────────────────────────────┼────────────────────────┼───────────────┤\n",
       "│ encoder_16 (\u001b[38;5;33mDense\u001b[0m)              │ (\u001b[38;5;45mNone\u001b[0m, \u001b[38;5;34m16\u001b[0m)             │           \u001b[38;5;34m528\u001b[0m │\n",
       "├─────────────────────────────────┼────────────────────────┼───────────────┤\n",
       "│ latent (\u001b[38;5;33mDense\u001b[0m)                  │ (\u001b[38;5;45mNone\u001b[0m, \u001b[38;5;34m2\u001b[0m)              │            \u001b[38;5;34m34\u001b[0m │\n",
       "└─────────────────────────────────┴────────────────────────┴───────────────┘\n"
      ]
     },
     "metadata": {},
     "output_type": "display_data"
    },
    {
     "data": {
      "text/html": [
       "<pre style=\"white-space:pre;overflow-x:auto;line-height:normal;font-family:Menlo,'DejaVu Sans Mono',consolas,'Courier New',monospace\"><span style=\"font-weight: bold\"> Total params: </span><span style=\"color: #00af00; text-decoration-color: #00af00\">2,418</span> (9.45 KB)\n",
       "</pre>\n"
      ],
      "text/plain": [
       "\u001b[1m Total params: \u001b[0m\u001b[38;5;34m2,418\u001b[0m (9.45 KB)\n"
      ]
     },
     "metadata": {},
     "output_type": "display_data"
    },
    {
     "data": {
      "text/html": [
       "<pre style=\"white-space:pre;overflow-x:auto;line-height:normal;font-family:Menlo,'DejaVu Sans Mono',consolas,'Courier New',monospace\"><span style=\"font-weight: bold\"> Trainable params: </span><span style=\"color: #00af00; text-decoration-color: #00af00\">2,418</span> (9.45 KB)\n",
       "</pre>\n"
      ],
      "text/plain": [
       "\u001b[1m Trainable params: \u001b[0m\u001b[38;5;34m2,418\u001b[0m (9.45 KB)\n"
      ]
     },
     "metadata": {},
     "output_type": "display_data"
    },
    {
     "data": {
      "text/html": [
       "<pre style=\"white-space:pre;overflow-x:auto;line-height:normal;font-family:Menlo,'DejaVu Sans Mono',consolas,'Courier New',monospace\"><span style=\"font-weight: bold\"> Non-trainable params: </span><span style=\"color: #00af00; text-decoration-color: #00af00\">0</span> (0.00 B)\n",
       "</pre>\n"
      ],
      "text/plain": [
       "\u001b[1m Non-trainable params: \u001b[0m\u001b[38;5;34m0\u001b[0m (0.00 B)\n"
      ]
     },
     "metadata": {},
     "output_type": "display_data"
    },
    {
     "data": {
      "text/html": [
       "<pre style=\"white-space:pre;overflow-x:auto;line-height:normal;font-family:Menlo,'DejaVu Sans Mono',consolas,'Courier New',monospace\"><span style=\"font-weight: bold\">Model: \"decoder\"</span>\n",
       "</pre>\n"
      ],
      "text/plain": [
       "\u001b[1mModel: \"decoder\"\u001b[0m\n"
      ]
     },
     "metadata": {},
     "output_type": "display_data"
    },
    {
     "data": {
      "text/html": [
       "<pre style=\"white-space:pre;overflow-x:auto;line-height:normal;font-family:Menlo,'DejaVu Sans Mono',consolas,'Courier New',monospace\">┏━━━━━━━━━━━━━━━━━━━━━━━━━━━━━━━━━┳━━━━━━━━━━━━━━━━━━━━━━━━┳━━━━━━━━━━━━━━━┓\n",
       "┃<span style=\"font-weight: bold\"> Layer (type)                    </span>┃<span style=\"font-weight: bold\"> Output Shape           </span>┃<span style=\"font-weight: bold\">       Param # </span>┃\n",
       "┡━━━━━━━━━━━━━━━━━━━━━━━━━━━━━━━━━╇━━━━━━━━━━━━━━━━━━━━━━━━╇━━━━━━━━━━━━━━━┩\n",
       "│ input_layer_1 (<span style=\"color: #0087ff; text-decoration-color: #0087ff\">InputLayer</span>)      │ (<span style=\"color: #00d7ff; text-decoration-color: #00d7ff\">None</span>, <span style=\"color: #00af00; text-decoration-color: #00af00\">2</span>)              │             <span style=\"color: #00af00; text-decoration-color: #00af00\">0</span> │\n",
       "├─────────────────────────────────┼────────────────────────┼───────────────┤\n",
       "│ dense (<span style=\"color: #0087ff; text-decoration-color: #0087ff\">Dense</span>)                   │ (<span style=\"color: #00d7ff; text-decoration-color: #00d7ff\">None</span>, <span style=\"color: #00af00; text-decoration-color: #00af00\">16</span>)             │            <span style=\"color: #00af00; text-decoration-color: #00af00\">48</span> │\n",
       "├─────────────────────────────────┼────────────────────────┼───────────────┤\n",
       "│ dense_1 (<span style=\"color: #0087ff; text-decoration-color: #0087ff\">Dense</span>)                 │ (<span style=\"color: #00d7ff; text-decoration-color: #00d7ff\">None</span>, <span style=\"color: #00af00; text-decoration-color: #00af00\">32</span>)             │           <span style=\"color: #00af00; text-decoration-color: #00af00\">544</span> │\n",
       "├─────────────────────────────────┼────────────────────────┼───────────────┤\n",
       "│ dense_2 (<span style=\"color: #0087ff; text-decoration-color: #0087ff\">Dense</span>)                 │ (<span style=\"color: #00d7ff; text-decoration-color: #00d7ff\">None</span>, <span style=\"color: #00af00; text-decoration-color: #00af00\">57</span>)             │         <span style=\"color: #00af00; text-decoration-color: #00af00\">1,881</span> │\n",
       "└─────────────────────────────────┴────────────────────────┴───────────────┘\n",
       "</pre>\n"
      ],
      "text/plain": [
       "┏━━━━━━━━━━━━━━━━━━━━━━━━━━━━━━━━━┳━━━━━━━━━━━━━━━━━━━━━━━━┳━━━━━━━━━━━━━━━┓\n",
       "┃\u001b[1m \u001b[0m\u001b[1mLayer (type)                   \u001b[0m\u001b[1m \u001b[0m┃\u001b[1m \u001b[0m\u001b[1mOutput Shape          \u001b[0m\u001b[1m \u001b[0m┃\u001b[1m \u001b[0m\u001b[1m      Param #\u001b[0m\u001b[1m \u001b[0m┃\n",
       "┡━━━━━━━━━━━━━━━━━━━━━━━━━━━━━━━━━╇━━━━━━━━━━━━━━━━━━━━━━━━╇━━━━━━━━━━━━━━━┩\n",
       "│ input_layer_1 (\u001b[38;5;33mInputLayer\u001b[0m)      │ (\u001b[38;5;45mNone\u001b[0m, \u001b[38;5;34m2\u001b[0m)              │             \u001b[38;5;34m0\u001b[0m │\n",
       "├─────────────────────────────────┼────────────────────────┼───────────────┤\n",
       "│ dense (\u001b[38;5;33mDense\u001b[0m)                   │ (\u001b[38;5;45mNone\u001b[0m, \u001b[38;5;34m16\u001b[0m)             │            \u001b[38;5;34m48\u001b[0m │\n",
       "├─────────────────────────────────┼────────────────────────┼───────────────┤\n",
       "│ dense_1 (\u001b[38;5;33mDense\u001b[0m)                 │ (\u001b[38;5;45mNone\u001b[0m, \u001b[38;5;34m32\u001b[0m)             │           \u001b[38;5;34m544\u001b[0m │\n",
       "├─────────────────────────────────┼────────────────────────┼───────────────┤\n",
       "│ dense_2 (\u001b[38;5;33mDense\u001b[0m)                 │ (\u001b[38;5;45mNone\u001b[0m, \u001b[38;5;34m57\u001b[0m)             │         \u001b[38;5;34m1,881\u001b[0m │\n",
       "└─────────────────────────────────┴────────────────────────┴───────────────┘\n"
      ]
     },
     "metadata": {},
     "output_type": "display_data"
    },
    {
     "data": {
      "text/html": [
       "<pre style=\"white-space:pre;overflow-x:auto;line-height:normal;font-family:Menlo,'DejaVu Sans Mono',consolas,'Courier New',monospace\"><span style=\"font-weight: bold\"> Total params: </span><span style=\"color: #00af00; text-decoration-color: #00af00\">2,473</span> (9.66 KB)\n",
       "</pre>\n"
      ],
      "text/plain": [
       "\u001b[1m Total params: \u001b[0m\u001b[38;5;34m2,473\u001b[0m (9.66 KB)\n"
      ]
     },
     "metadata": {},
     "output_type": "display_data"
    },
    {
     "data": {
      "text/html": [
       "<pre style=\"white-space:pre;overflow-x:auto;line-height:normal;font-family:Menlo,'DejaVu Sans Mono',consolas,'Courier New',monospace\"><span style=\"font-weight: bold\"> Trainable params: </span><span style=\"color: #00af00; text-decoration-color: #00af00\">2,473</span> (9.66 KB)\n",
       "</pre>\n"
      ],
      "text/plain": [
       "\u001b[1m Trainable params: \u001b[0m\u001b[38;5;34m2,473\u001b[0m (9.66 KB)\n"
      ]
     },
     "metadata": {},
     "output_type": "display_data"
    },
    {
     "data": {
      "text/html": [
       "<pre style=\"white-space:pre;overflow-x:auto;line-height:normal;font-family:Menlo,'DejaVu Sans Mono',consolas,'Courier New',monospace\"><span style=\"font-weight: bold\"> Non-trainable params: </span><span style=\"color: #00af00; text-decoration-color: #00af00\">0</span> (0.00 B)\n",
       "</pre>\n"
      ],
      "text/plain": [
       "\u001b[1m Non-trainable params: \u001b[0m\u001b[38;5;34m0\u001b[0m (0.00 B)\n"
      ]
     },
     "metadata": {},
     "output_type": "display_data"
    }
   ],
   "source": [
    "model = model_generator.create_model(train_config, \"AE\")"
   ]
  },
  {
   "cell_type": "markdown",
   "id": "38aa4393",
   "metadata": {},
   "source": [
    "**Model Training**\n",
    "\n",
    "---"
   ]
  },
  {
   "cell_type": "code",
   "execution_count": 5,
   "id": "77e4dfc5",
   "metadata": {},
   "outputs": [
    {
     "name": "stdout",
     "output_type": "stream",
     "text": [
      "Training model generic\n",
      "Epoch 1/20\n",
      "\u001b[1m1954/1954\u001b[0m \u001b[32m━━━━━━━━━━━━━━━━━━━━\u001b[0m\u001b[37m\u001b[0m \u001b[1m12s\u001b[0m 5ms/step - loss: 0.2298 - val_loss: 0.1686 - learning_rate: 0.0010\n",
      "Epoch 2/20\n",
      "\u001b[1m1954/1954\u001b[0m \u001b[32m━━━━━━━━━━━━━━━━━━━━\u001b[0m\u001b[37m\u001b[0m \u001b[1m9s\u001b[0m 5ms/step - loss: 0.1655 - val_loss: 0.1587 - learning_rate: 0.0010\n",
      "Epoch 3/20\n",
      "\u001b[1m1954/1954\u001b[0m \u001b[32m━━━━━━━━━━━━━━━━━━━━\u001b[0m\u001b[37m\u001b[0m \u001b[1m9s\u001b[0m 5ms/step - loss: 0.1586 - val_loss: 0.1579 - learning_rate: 0.0010\n",
      "Epoch 4/20\n",
      "\u001b[1m1954/1954\u001b[0m \u001b[32m━━━━━━━━━━━━━━━━━━━━\u001b[0m\u001b[37m\u001b[0m \u001b[1m9s\u001b[0m 5ms/step - loss: 0.1581 - val_loss: 0.1574 - learning_rate: 0.0010\n",
      "Epoch 5/20\n",
      "\u001b[1m1954/1954\u001b[0m \u001b[32m━━━━━━━━━━━━━━━━━━━━\u001b[0m\u001b[37m\u001b[0m \u001b[1m9s\u001b[0m 5ms/step - loss: 0.1578 - val_loss: 0.1572 - learning_rate: 0.0010\n",
      "Epoch 6/20\n",
      "\u001b[1m1954/1954\u001b[0m \u001b[32m━━━━━━━━━━━━━━━━━━━━\u001b[0m\u001b[37m\u001b[0m \u001b[1m9s\u001b[0m 5ms/step - loss: 0.1574 - val_loss: 0.1568 - learning_rate: 0.0010\n",
      "Epoch 7/20\n",
      "\u001b[1m1954/1954\u001b[0m \u001b[32m━━━━━━━━━━━━━━━━━━━━\u001b[0m\u001b[37m\u001b[0m \u001b[1m9s\u001b[0m 5ms/step - loss: 0.1571 - val_loss: 0.1565 - learning_rate: 0.0010\n",
      "Epoch 8/20\n",
      "\u001b[1m1954/1954\u001b[0m \u001b[32m━━━━━━━━━━━━━━━━━━━━\u001b[0m\u001b[37m\u001b[0m \u001b[1m10s\u001b[0m 5ms/step - loss: 0.1568 - val_loss: 0.1563 - learning_rate: 0.0010\n",
      "Epoch 9/20\n",
      "\u001b[1m1954/1954\u001b[0m \u001b[32m━━━━━━━━━━━━━━━━━━━━\u001b[0m\u001b[37m\u001b[0m \u001b[1m9s\u001b[0m 4ms/step - loss: 0.1567 - val_loss: 0.1562 - learning_rate: 0.0010\n",
      "Epoch 10/20\n",
      "\u001b[1m1954/1954\u001b[0m \u001b[32m━━━━━━━━━━━━━━━━━━━━\u001b[0m\u001b[37m\u001b[0m \u001b[1m9s\u001b[0m 5ms/step - loss: 0.1565 - val_loss: 0.1561 - learning_rate: 0.0010\n",
      "Epoch 11/20\n",
      "\u001b[1m1954/1954\u001b[0m \u001b[32m━━━━━━━━━━━━━━━━━━━━\u001b[0m\u001b[37m\u001b[0m \u001b[1m10s\u001b[0m 5ms/step - loss: 0.1565 - val_loss: 0.1560 - learning_rate: 0.0010\n",
      "Epoch 12/20\n",
      "\u001b[1m1954/1954\u001b[0m \u001b[32m━━━━━━━━━━━━━━━━━━━━\u001b[0m\u001b[37m\u001b[0m \u001b[1m9s\u001b[0m 5ms/step - loss: 0.1563 - val_loss: 0.1561 - learning_rate: 0.0010\n",
      "Epoch 13/20\n",
      "\u001b[1m1954/1954\u001b[0m \u001b[32m━━━━━━━━━━━━━━━━━━━━\u001b[0m\u001b[37m\u001b[0m \u001b[1m9s\u001b[0m 5ms/step - loss: 0.1561 - val_loss: 0.1557 - learning_rate: 0.0010\n",
      "Epoch 14/20\n",
      "\u001b[1m1954/1954\u001b[0m \u001b[32m━━━━━━━━━━━━━━━━━━━━\u001b[0m\u001b[37m\u001b[0m \u001b[1m9s\u001b[0m 5ms/step - loss: 0.1561 - val_loss: 0.1557 - learning_rate: 0.0010\n",
      "Epoch 15/20\n",
      "\u001b[1m1954/1954\u001b[0m \u001b[32m━━━━━━━━━━━━━━━━━━━━\u001b[0m\u001b[37m\u001b[0m \u001b[1m9s\u001b[0m 5ms/step - loss: 0.1560 - val_loss: 0.1557 - learning_rate: 0.0010\n",
      "Epoch 16/20\n",
      "\u001b[1m1954/1954\u001b[0m \u001b[32m━━━━━━━━━━━━━━━━━━━━\u001b[0m\u001b[37m\u001b[0m \u001b[1m8s\u001b[0m 4ms/step - loss: 0.1560 - val_loss: 0.1556 - learning_rate: 0.0010\n",
      "Epoch 17/20\n",
      "\u001b[1m1946/1954\u001b[0m \u001b[32m━━━━━━━━━━━━━━━━━━━\u001b[0m\u001b[37m━\u001b[0m \u001b[1m0s\u001b[0m 4ms/step - loss: 0.1560\n",
      "Epoch 17: ReduceLROnPlateau reducing learning rate to 0.00010000000474974513.\n",
      "\u001b[1m1954/1954\u001b[0m \u001b[32m━━━━━━━━━━━━━━━━━━━━\u001b[0m\u001b[37m\u001b[0m \u001b[1m9s\u001b[0m 4ms/step - loss: 0.1560 - val_loss: 0.1556 - learning_rate: 0.0010\n",
      "Epoch 18/20\n",
      "\u001b[1m1954/1954\u001b[0m \u001b[32m━━━━━━━━━━━━━━━━━━━━\u001b[0m\u001b[37m\u001b[0m \u001b[1m10s\u001b[0m 5ms/step - loss: 0.1556 - val_loss: 0.1554 - learning_rate: 1.0000e-04\n",
      "Epoch 19/20\n",
      "\u001b[1m1954/1954\u001b[0m \u001b[32m━━━━━━━━━━━━━━━━━━━━\u001b[0m\u001b[37m\u001b[0m \u001b[1m10s\u001b[0m 5ms/step - loss: 0.1557 - val_loss: 0.1554 - learning_rate: 1.0000e-04\n",
      "Epoch 20/20\n",
      "\u001b[1m1954/1954\u001b[0m \u001b[32m━━━━━━━━━━━━━━━━━━━━\u001b[0m\u001b[37m\u001b[0m \u001b[1m10s\u001b[0m 5ms/step - loss: 0.1557 - val_loss: 0.1554 - learning_rate: 1.0000e-04\n"
     ]
    }
   ],
   "source": [
    "model, history = model_trainer.train_model(train_config, model, data_train, data_validate)\n",
    "# gg.generate_loss_vs_epoch(train_config, history)"
   ]
  },
  {
   "cell_type": "markdown",
   "id": "64e41c34",
   "metadata": {},
   "source": [
    "**Model Evaluation**\n",
    "\n",
    "---"
   ]
  },
  {
   "cell_type": "markdown",
   "id": "35c82868",
   "metadata": {},
   "source": [
    "Processing the signal data"
   ]
  },
  {
   "cell_type": "code",
   "execution_count": 16,
   "id": "cd846fb2",
   "metadata": {},
   "outputs": [],
   "source": [
    "reconstructed_background = model(data_test).numpy()\n",
    "reconstructed_Ato4l = model(Ato4l).numpy()\n",
    "reconstructed_hToTauTau = model(hToTauTau).numpy()\n",
    "reconstructed_hChToTauNu = model(hChToTauNu).numpy()\n",
    "reconstructed_leptoquark = model(leptoquark).numpy()\n",
    "\n",
    "background_scores = ((reconstructed_background-data_test)**2)\n",
    "Ato4l_scores = ((reconstructed_Ato4l - Ato4l)**2)\n",
    "hToTauTau_scores = ((reconstructed_hToTauTau - hToTauTau)**2)\n",
    "hChToTauNu_scores = ((reconstructed_hChToTauNu - hChToTauNu)**2)\n",
    "leptoquark_scores = ((reconstructed_leptoquark - leptoquark)**2)\n",
    "\n",
    "\n",
    "background_scores = np.mean(background_scores,axis=1,keepdims=True)\n",
    "Ato4l_scores = np.mean(Ato4l_scores,axis=1,keepdims=True)\n",
    "hToTauTau_scores = np.mean(hToTauTau_scores,axis=1,keepdims=True)\n",
    "hChToTauNu_scores = np.mean(hChToTauNu_scores,axis=1,keepdims=True)\n",
    "leptoquark_scores = np.mean(leptoquark_scores,axis=1,keepdims=True)\n",
    "\n",
    "background_scores = background_scores[:50000]\n",
    "Ato4l_scores = Ato4l_scores[:50000]\n",
    "hToTauTau_scores = hToTauTau_scores[:50000]\n",
    "hChToTauNu_scores = hChToTauNu_scores[:50000]\n",
    "leptoquark_scores = leptoquark_scores[:50000]\n",
    "\n",
    "\n"
   ]
  },
  {
   "cell_type": "markdown",
   "id": "f1fc9272",
   "metadata": {},
   "source": [
    "Generate ROC and loss histograms, seeing if we can get that anomaly score to work..."
   ]
  },
  {
   "cell_type": "code",
   "execution_count": 17,
   "id": "715fbf37",
   "metadata": {},
   "outputs": [],
   "source": [
    "# gg.generate_roc_curve(train_config, truth_values, scores)\n"
   ]
  },
  {
   "cell_type": "code",
   "execution_count": 21,
   "id": "91ff2f99",
   "metadata": {},
   "outputs": [
    {
     "data": {
      "image/png": "[encoded data removed]",
      "text/plain": [
       "<Figure size 800x600 with 1 Axes>"
      ]
     },
     "metadata": {},
     "output_type": "display_data"
    }
   ],
   "source": [
    "plt.figure(figsize=(8, 6))\n",
    "plt.hist(background_scores, histtype='step',bins=train_config[\"outputs\"][\"bins\"], label='Background : {}'.format(len(background_scores)))\n",
    "plt.hist(Ato4l_scores, histtype='step',bins=train_config[\"outputs\"][\"bins\"], label='Ato4l_lepFilter_13TeV : {}'.format(len(Ato4l_scores)))\n",
    "plt.hist(hToTauTau_scores, histtype='step', bins=train_config[\"outputs\"][\"bins\"], label='hToTauTau_13TeV_PU20 : {}'.format(len(hToTauTau_scores)))\n",
    "plt.hist(hChToTauNu_scores, histtype='step', bins=train_config[\"outputs\"][\"bins\"], label='hChToTauNu_13TeV_PU20 : {}'.format(len(hChToTauNu_scores)))\n",
    "plt.hist(leptoquark_scores,histtype='step', bins = train_config[\"outputs\"][\"bins\"], label='leptoquark_LOWMASS_lepFilter_13TeV : {}'.format(len(leptoquark_scores)))\n",
    "plt.xlabel('Loss')\n",
    "plt.ylabel('Log Frequency')\n",
    "plt.yscale('log')\n",
    "plt.title(\"Loss Histogram for AE\")\n",
    "plt.legend(title=\" Number of Events\")\n",
    "# plt.savefig(os.path.join(train_config[\"outputs\"][\"graph_directory\"], datetime.datetime.now().strftime(\n",
    "        # train_config[\"outputs\"][\"date_time_format\"]) + \"_Histogram.png\"), format=\"png\", bbox_inches=\"tight\")\n",
    "plt.show()"
   ]
  },
  {
   "cell_type": "code",
   "execution_count": 19,
   "id": "95228adb",
   "metadata": {},
   "outputs": [],
   "source": [
    "# TODO\n",
    "# Save model if it is interesting"
   ]
  }
 ],
 "metadata": {
  "kernelspec": {
   "display_name": "evidential-dl-ae (3.9.13)",
   "language": "python",
   "name": "python3"
  },
  "language_info": {
   "codemirror_mode": {
    "name": "ipython",
    "version": 3
   },
   "file_extension": ".py",
   "mimetype": "text/x-python",
   "name": "python",
   "nbconvert_exporter": "python",
   "pygments_lexer": "ipython3",
   "version": "3.9.13"
  }
 },
 "nbformat": 4,
 "nbformat_minor": 5
}
