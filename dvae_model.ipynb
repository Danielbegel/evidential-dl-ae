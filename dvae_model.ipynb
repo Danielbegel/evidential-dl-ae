{
 "cells": [
  {
   "cell_type": "markdown",
   "id": "698034ee",
   "metadata": {},
   "source": [
    "**Dirichlet Variational Autoencoder (DVAE)**\n",
    "---\n",
    "**Imports**\n",
    "\n",
    "---"
   ]
  },
  {
   "cell_type": "markdown",
   "id": "94122811",
   "metadata": {},
   "source": [
    "External libraries required for operation"
   ]
  },
  {
   "cell_type": "code",
   "execution_count": 1,
   "id": "9701c1a6",
   "metadata": {},
   "outputs": [
    {
     "name": "stderr",
     "output_type": "stream",
     "text": [
      "2025-07-25 11:19:42.307808: I external/local_xla/xla/tsl/cuda/cudart_stub.cc:32] Could not find cuda drivers on your machine, GPU will not be used.\n",
      "2025-07-25 11:19:42.316044: I external/local_xla/xla/tsl/cuda/cudart_stub.cc:32] Could not find cuda drivers on your machine, GPU will not be used.\n",
      "2025-07-25 11:19:42.332331: E external/local_xla/xla/stream_executor/cuda/cuda_fft.cc:467] Unable to register cuFFT factory: Attempting to register factory for plugin cuFFT when one has already been registered\n",
      "WARNING: All log messages before absl::InitializeLog() is called are written to STDERR\n",
      "E0000 00:00:1753467582.358344 2579422 cuda_dnn.cc:8579] Unable to register cuDNN factory: Attempting to register factory for plugin cuDNN when one has already been registered\n",
      "E0000 00:00:1753467582.366016 2579422 cuda_blas.cc:1407] Unable to register cuBLAS factory: Attempting to register factory for plugin cuBLAS when one has already been registered\n",
      "W0000 00:00:1753467582.388764 2579422 computation_placer.cc:177] computation placer already registered. Please check linkage and avoid linking the same target more than once.\n",
      "W0000 00:00:1753467582.388803 2579422 computation_placer.cc:177] computation placer already registered. Please check linkage and avoid linking the same target more than once.\n",
      "W0000 00:00:1753467582.388808 2579422 computation_placer.cc:177] computation placer already registered. Please check linkage and avoid linking the same target more than once.\n",
      "W0000 00:00:1753467582.388813 2579422 computation_placer.cc:177] computation placer already registered. Please check linkage and avoid linking the same target more than once.\n",
      "2025-07-25 11:19:42.395670: I tensorflow/core/platform/cpu_feature_guard.cc:210] This TensorFlow binary is optimized to use available CPU instructions in performance-critical operations.\n",
      "To enable the following instructions: AVX2 AVX512F FMA, in other operations, rebuild TensorFlow with the appropriate compiler flags.\n"
     ]
    }
   ],
   "source": [
    "import json\n",
    "import os\n",
    "import datetime\n",
    "import numpy as np\n",
    "import matplotlib.pyplot as plt\n",
    "from data_preprocessor import data_preprocessor as preproc\n",
    "from data_splitter import fixed_splitter as fs\n",
    "from model_manager import model_generator, model_trainer, model_storage\n",
    "from grapher import graph_generator as gg\n",
    "from tensorflow.keras import Model\n",
    "from tensorflow.keras import layers\n",
    "import tensorflow as tf\n",
    "import tensorflow_probability as tfp\n",
    "from tensorflow.keras.callbacks import EarlyStopping, ReduceLROnPlateau, CSVLogger, TensorBoard\n",
    "from tensorflow.keras.optimizers import Adam\n",
    "\n"
   ]
  },
  {
   "cell_type": "markdown",
   "id": "cc3b72a0",
   "metadata": {},
   "source": [
    "Opening the trainer_config.json file:"
   ]
  },
  {
   "cell_type": "code",
   "execution_count": 2,
   "id": "7fb38342",
   "metadata": {},
   "outputs": [],
   "source": [
    "TRAINER_CONFIG_FILE_LOCATION = 'config/trainer_config.json'\n",
    "with open(TRAINER_CONFIG_FILE_LOCATION, 'r') as file:\n",
    "    train_config = json.load(file)"
   ]
  },
  {
   "cell_type": "markdown",
   "id": "3ba53a62",
   "metadata": {},
   "source": [
    "**Data Preprocessing**\n",
    "\n",
    "---"
   ]
  },
  {
   "cell_type": "markdown",
   "id": "b527cb4d",
   "metadata": {},
   "source": [
    "This block will open and validate the background data file. It must contain the directory \"Particles\" within it in order for us to continue. It will then save it into a numpy array to be used for model training."
   ]
  },
  {
   "cell_type": "code",
   "execution_count": 3,
   "id": "a62addf2",
   "metadata": {},
   "outputs": [
    {
     "name": "stdout",
     "output_type": "stream",
     "text": [
      "Generated The Following Datasets\n",
      " Train Data Shape : (2000000, 57)\n",
      " Validation Data Shape : (399999, 57)\n",
      " Test Data Shape : (70000, 57)\n"
     ]
    }
   ],
   "source": [
    "preprocessed_data = preproc.get_data(train_config)\n",
    "\n",
    "Ato4l = preproc.get_data(train_config, \"Ato4l_lepFilter_13TeV\")\n",
    "hToTauTau = preproc.get_data(train_config, \"hToTauTau_13TeV_PU20\")\n",
    "hChToTauNu = preproc.get_data(train_config, \"hChToTauNu_13TeV_PU20\")\n",
    "leptoquark = preproc.get_data(train_config, \"leptoquark_LOWMASS_lepFilter_13TeV\")\n",
    "\n",
    "Ato4l = preproc.normalize_data(Ato4l)\n",
    "hToTauTau = preproc.normalize_data(hToTauTau)\n",
    "hChToTauNu = preproc.normalize_data(hChToTauNu)\n",
    "leptoquark = preproc.normalize_data(leptoquark)\n",
    "\n",
    "signal_data = np.concatenate([\n",
    "    Ato4l, \n",
    "    hToTauTau,\n",
    "    hChToTauNu,\n",
    "    leptoquark\n",
    "])\n",
    "\n",
    "data_train, data_validate, data_test = fs.generate_fixed_trainingdata_split(train_config, preprocessed_data, True)"
   ]
  },
  {
   "cell_type": "markdown",
   "id": "c1e688ca",
   "metadata": {},
   "source": [
    "**Model Initialization**\n",
    "\n",
    "---"
   ]
  },
  {
   "cell_type": "markdown",
   "id": "e4d1c843",
   "metadata": {},
   "source": [
    "Initialize an instance of the above class"
   ]
  },
  {
   "cell_type": "code",
   "execution_count": 4,
   "id": "06b3513f",
   "metadata": {},
   "outputs": [
    {
     "name": "stderr",
     "output_type": "stream",
     "text": [
      "2025-07-25 11:21:53.558675: E external/local_xla/xla/stream_executor/cuda/cuda_platform.cc:51] failed call to cuInit: INTERNAL: CUDA error: Failed call to cuInit: UNKNOWN ERROR (303)\n"
     ]
    }
   ],
   "source": [
    "class EDLModel(Model): # TODO make this into its own function, having the priot_alpha is undefined bug, not sure why\n",
    "    \"\"\"\n",
    "    This model replaces the VAE parameters with the Dirichlet Paramaters\n",
    "\n",
    "    \"\"\"\n",
    "    def __init__(self, train_config):\n",
    "        super(EDLModel, self).__init__()\n",
    "        self.input_shape = (train_config[\"encoder_design\"][\"input_layer_dimension\"],)\n",
    "        self.latent_dim = 2 # This is fixed since we have just two classes\n",
    "        self.train_config = train_config\n",
    "        self.kl_losses = []\n",
    "\n",
    "        # Encoder\n",
    "        self.encoder_input = layers.Input(shape=self.input_shape)\n",
    "        dimensions = train_config[\"encoder_design\"][\"inner_layer_dimensions\"]\n",
    "        x = self.encoder_input\n",
    "        for dim in dimensions:\n",
    "            self.encoder_x = layers.Dense(dim, activation='relu')(x)\n",
    "            x = self.encoder_x\n",
    "        self.alpha = layers.Dense(self.latent_dim, activation='softplus')(self.encoder_x)\n",
    "        self.z = Sampling()(self.alpha)\n",
    "\n",
    "        # Decoder\n",
    "        self.decoder_input = layers.Input(shape=(self.latent_dim,))\n",
    "        op_layer_dimension_list = train_config[\"decoder_design\"][\"inner_layer_dimensions\"]\n",
    "        x = self.decoder_input\n",
    "        for dim in op_layer_dimension_list:\n",
    "            self.decoder_x = layers.Dense(dim, activation='relu')(x)\n",
    "            x = self.decoder_x\n",
    "        self.decoder_output = layers.Dense(self.input_shape[0], activation='relu')(self.decoder_x)\n",
    "\n",
    "        self.encoder = Model(self.encoder_input, [self.z, self.alpha])\n",
    "        self.decoder = Model(self.decoder_input, self.decoder_output)\n",
    "\n",
    "        self.num_classes = train_config[\"encoder_design\"][\"latent_layer_dimension\"]\n",
    "        self.prior_alpha = tf.constant([1.0] * self.num_classes, dtype=tf.float32)\n",
    "\n",
    "    def call(self, inputs):\n",
    "        alpha, z = self.encoder(inputs)\n",
    "        prior_alpha = tf.broadcast_to(self.prior_alpha, tf.shape(alpha))\n",
    "        strength = self.train_config[\"hyperparameters\"][\"kl_strength\"]\n",
    "        kl_loss = strength * tf.reduce_sum(tfp.distributions.Dirichlet(alpha).kl_divergence(tfp.distributions.Dirichlet(prior_alpha))) #TODO debug \n",
    "        reconstructed = self.decoder(z)\n",
    "        mse = tf.keras.losses.MeanSquaredError()\n",
    "        reconstruction_loss = mse(inputs, reconstructed) * self.input_shape[0]\n",
    "\n",
    "        total_loss = reconstruction_loss + kl_loss\n",
    "        self.add_loss(total_loss)\n",
    "        return reconstructed\n",
    "\n",
    "\n",
    "class Sampling(layers.Layer):\n",
    "    \"\"\"Uses the alpha dirichlet to sample\"\"\"\n",
    "\n",
    "    def call(self, inputs):\n",
    "        return tfp.distributions.Dirichlet(inputs).sample()\n",
    "    \n",
    "model = EDLModel(train_config)"
   ]
  },
  {
   "cell_type": "markdown",
   "id": "38aa4393",
   "metadata": {},
   "source": [
    "**Model Training**\n",
    "\n",
    "---"
   ]
  },
  {
   "cell_type": "code",
   "execution_count": 5,
   "id": "77e4dfc5",
   "metadata": {},
   "outputs": [
    {
     "name": "stdout",
     "output_type": "stream",
     "text": [
      "compiling EDL\n",
      "Epoch 1/5\n",
      "\u001b[1m1954/1954\u001b[0m \u001b[32m━━━━━━━━━━━━━━━━━━━━\u001b[0m\u001b[37m\u001b[0m \u001b[1m13s\u001b[0m 6ms/step - loss: 3178346.0000 - val_loss: 227.7793 - learning_rate: 0.0010\n",
      "Epoch 2/5\n",
      "\u001b[1m1954/1954\u001b[0m \u001b[32m━━━━━━━━━━━━━━━━━━━━\u001b[0m\u001b[37m\u001b[0m \u001b[1m10s\u001b[0m 5ms/step - loss: 187.7267 - val_loss: 110.7815 - learning_rate: 0.0010\n",
      "Epoch 3/5\n",
      "\u001b[1m1954/1954\u001b[0m \u001b[32m━━━━━━━━━━━━━━━━━━━━\u001b[0m\u001b[37m\u001b[0m \u001b[1m11s\u001b[0m 5ms/step - loss: 98.3546 - val_loss: 70.5027 - learning_rate: 0.0010\n",
      "Epoch 4/5\n",
      "\u001b[1m1954/1954\u001b[0m \u001b[32m━━━━━━━━━━━━━━━━━━━━\u001b[0m\u001b[37m\u001b[0m \u001b[1m11s\u001b[0m 5ms/step - loss: 64.8676 - val_loss: 52.2041 - learning_rate: 0.0010\n",
      "Epoch 5/5\n",
      "\u001b[1m1954/1954\u001b[0m \u001b[32m━━━━━━━━━━━━━━━━━━━━\u001b[0m\u001b[37m\u001b[0m \u001b[1m11s\u001b[0m 5ms/step - loss: 49.8943 - val_loss: 44.1426 - learning_rate: 0.0010\n"
     ]
    }
   ],
   "source": [
    "early_stopping = EarlyStopping(patience=train_config[\"hyperparameters\"][\"stop_patience\"], restore_best_weights=True)\n",
    "reduce_lr = ReduceLROnPlateau(monitor='val_loss', factor=0.1,\n",
    "                                  patience=train_config[\"hyperparameters\"][\"lr_patience\"], verbose=1)\n",
    "\n",
    "print(\"compiling EDL\")\n",
    "model.compile(optimizer=Adam())\n",
    "x_train = data_train\n",
    "y_train = data_train\n",
    "x_val = data_validate\n",
    "y_val = data_validate\n",
    "history = model.fit(\n",
    "            x=x_train,\n",
    "            y=y_train,\n",
    "            validation_data=(x_val, y_val),\n",
    "            epochs=train_config[\"hyperparameters\"][\"epochs\"],\n",
    "            batch_size=train_config[\"hyperparameters\"][\"batch_size\"],\n",
    "            callbacks=[early_stopping, reduce_lr]\n",
    "            )"
   ]
  },
  {
   "cell_type": "markdown",
   "id": "64e41c34",
   "metadata": {},
   "source": [
    "**Model Evaluation**\n",
    "\n",
    "---"
   ]
  },
  {
   "cell_type": "markdown",
   "id": "35c82868",
   "metadata": {},
   "source": [
    "Processing the signal data"
   ]
  },
  {
   "cell_type": "code",
   "execution_count": 6,
   "id": "cd846fb2",
   "metadata": {},
   "outputs": [],
   "source": [
    "# gg.generate_loss_vs_epoch(train_config, history)\n",
    "\n",
    "N = 50000\n",
    "data_test = data_test[:50000]\n",
    "Ato4l = Ato4l[:50000]\n",
    "hToTauTau = hToTauTau[:50000]\n",
    "hChToTauNu = hChToTauNu[:50000]\n",
    "leptoquark = leptoquark[:50000]\n",
    "\n",
    "strength = model.train_config[\"hyperparameters\"][\"kl_strength\"]\n",
    "num_classes = model.latent_dim\n",
    "prior_alpha_constant = tf.constant([1.0] * num_classes, dtype=tf.float32)\n",
    "\n",
    "alpha, z = model.encoder(data_test)\n",
    "prior_alpha_broadcasted = tf.broadcast_to(prior_alpha_constant, tf.shape(alpha))\n",
    "kl_divergences_per_sample = tfp.distributions.Dirichlet(alpha).kl_divergence(\n",
    "                                tfp.distributions.Dirichlet(prior_alpha_broadcasted))\n",
    "kl_background = (strength * kl_divergences_per_sample).numpy()\n",
    "\n",
    "alpha, z = model.encoder(Ato4l)\n",
    "prior_alpha_broadcasted = tf.broadcast_to(prior_alpha_constant, tf.shape(alpha))\n",
    "kl_divergences_per_sample = tfp.distributions.Dirichlet(alpha).kl_divergence(\n",
    "                                tfp.distributions.Dirichlet(prior_alpha_broadcasted))\n",
    "kl_Ato4l = (strength * kl_divergences_per_sample).numpy()\n",
    "\n",
    "alpha, z = model.encoder(hToTauTau)\n",
    "prior_alpha_broadcasted = tf.broadcast_to(prior_alpha_constant, tf.shape(alpha))\n",
    "kl_divergences_per_sample = tfp.distributions.Dirichlet(alpha).kl_divergence(\n",
    "                                tfp.distributions.Dirichlet(prior_alpha_broadcasted))\n",
    "kl_hToTauTau = (strength * kl_divergences_per_sample).numpy()\n",
    "\n",
    "alpha, z = model.encoder(hChToTauNu)\n",
    "prior_alpha_broadcasted = tf.broadcast_to(prior_alpha_constant, tf.shape(alpha))\n",
    "kl_divergences_per_sample = tfp.distributions.Dirichlet(alpha).kl_divergence(\n",
    "                                tfp.distributions.Dirichlet(prior_alpha_broadcasted))\n",
    "kl_hChToTauNu = (strength * kl_divergences_per_sample).numpy()\n",
    "\n",
    "alpha, z = model.encoder(leptoquark)\n",
    "prior_alpha_broadcasted = tf.broadcast_to(prior_alpha_constant, tf.shape(alpha))\n",
    "kl_divergences_per_sample = tfp.distributions.Dirichlet(alpha).kl_divergence(\n",
    "                                tfp.distributions.Dirichlet(prior_alpha_broadcasted))\n",
    "kl_leptoquark = (strength * kl_divergences_per_sample).numpy()\n",
    "\n",
    "\n",
    "\n",
    "reconstructed_background = model(data_test).numpy()\n",
    "reconstructed_Ato4l = model(Ato4l).numpy()\n",
    "reconstructed_hToTauTau = model(hToTauTau).numpy()\n",
    "reconstructed_hChToTauNu = model(hChToTauNu).numpy()\n",
    "reconstructed_leptoquark = model(leptoquark).numpy()\n",
    "\n",
    "background_scores = ((reconstructed_background-data_test)**2)\n",
    "Ato4l_scores = ((reconstructed_Ato4l - Ato4l)**2)\n",
    "hToTauTau_scores = ((reconstructed_hToTauTau - hToTauTau)**2)\n",
    "hChToTauNu_scores = ((reconstructed_hChToTauNu - hChToTauNu)**2)\n",
    "leptoquark_scores = ((reconstructed_leptoquark - leptoquark)**2)\n",
    "\n",
    "background_scores = np.mean(background_scores,axis=1,keepdims=True)\n",
    "Ato4l_scores = np.mean(Ato4l_scores,axis=1,keepdims=True)\n",
    "hToTauTau_scores = np.mean(hToTauTau_scores,axis=1,keepdims=True)\n",
    "hChToTauNu_scores = np.mean(hChToTauNu_scores,axis=1,keepdims=True)\n",
    "leptoquark_scores = np.mean(leptoquark_scores,axis=1,keepdims=True)\n"
   ]
  },
  {
   "cell_type": "markdown",
   "id": "f1fc9272",
   "metadata": {},
   "source": [
    "Generate AUC and loss histograms, seeing if we can get that anomaly score to work..."
   ]
  },
  {
   "cell_type": "code",
   "execution_count": 22,
   "id": "715fbf37",
   "metadata": {},
   "outputs": [
    {
     "data": {
      "image/png": "[encoded data removed]",
      "text/plain": [
       "<Figure size 800x600 with 1 Axes>"
      ]
     },
     "metadata": {},
     "output_type": "display_data"
    }
   ],
   "source": [
    "# gg.generate_roc_curve(train_config, truth_values, scores)\n",
    "plt.figure(figsize=(8, 6))\n",
    "\n",
    "#MSE loss\n",
    "# plt.hist(background_scores, histtype='step', bins=train_config[\"outputs\"][\"bins\"], label='Background MSE', color='blue')\n",
    "# plt.hist(Ato4l_scores, histtype='step', bins=train_config[\"outputs\"][\"bins\"], label='Ato4l MSE', color='red')\n",
    "# plt.hist(hToTauTau_scores, histtype='step', bins=train_config[\"outputs\"][\"bins\"], label='hToTauTau MSE', color= 'green')\n",
    "# plt.hist(hChToTauNu_scores, histtype='step', bins=train_config[\"outputs\"][\"bins\"], label='hChToTauNu MSE', color='orange')\n",
    "# plt.hist(leptoquark_scores,histtype='step', bins = train_config[\"outputs\"][\"bins\"], label='leptoquark MSE', color='purple')\n",
    "\n",
    "#KL Loss\n",
    "plt.hist(kl_background, histtype='step', bins=train_config[\"outputs\"][\"bins\"], label='Background KL', color = 'blue')\n",
    "plt.hist(kl_Ato4l, histtype='step', bins=train_config[\"outputs\"][\"bins\"],label='Ato4l KL', color = 'red')\n",
    "plt.hist(kl_hToTauTau, histtype='step', bins=train_config[\"outputs\"][\"bins\"], label = 'hToTauTau KL', color='green')\n",
    "plt.hist(kl_hChToTauNu, histtype='step', bins=train_config[\"outputs\"][\"bins\"], label = 'hChToTauNu KL', color='orange')\n",
    "plt.hist(kl_leptoquark, histtype='step', bins=train_config[\"outputs\"][\"bins\"], label = 'leptoquark KL',color='purple')\n",
    "\n",
    "\n",
    "plt.xlabel('Loss')\n",
    "plt.ylabel('Log Frequency')\n",
    "plt.yscale('log')\n",
    "plt.title(\"Loss Histogram for DAE (MSE Loss)\")\n",
    "plt.legend(title=\" Number of Events\")\n",
    "# plt.savefig(os.path.join(train_config[\"outputs\"][\"graph_directory\"], datetime.datetime.now().strftime(\n",
    "        # train_config[\"outputs\"][\"date_time_format\"]) + \"_Histogram.png\"), format=\"png\", bbox_inches=\"tight\")\n",
    "plt.show()\n"
   ]
  },
  {
   "cell_type": "code",
   "execution_count": 8,
   "id": "23d77551",
   "metadata": {},
   "outputs": [],
   "source": [
    "# gg.generate_histogram(train_config, background_scores, signal_scores, train_config[\"data_files\"][\"signal_labels\"] )"
   ]
  },
  {
   "cell_type": "code",
   "execution_count": null,
   "id": "e2037d9c",
   "metadata": {},
   "outputs": [],
   "source": []
  }
 ],
 "metadata": {
  "kernelspec": {
   "display_name": "evidential-dl-ae (3.9.13)",
   "language": "python",
   "name": "python3"
  },
  "language_info": {
   "codemirror_mode": {
    "name": "ipython",
    "version": 3
   },
   "file_extension": ".py",
   "mimetype": "text/x-python",
   "name": "python",
   "nbconvert_exporter": "python",
   "pygments_lexer": "ipython3",
   "version": "3.9.13"
  }
 },
 "nbformat": 4,
 "nbformat_minor": 5
}
